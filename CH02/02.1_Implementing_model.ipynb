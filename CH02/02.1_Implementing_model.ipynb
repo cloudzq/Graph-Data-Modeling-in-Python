{
 "cells": [
  {
   "cell_type": "markdown",
   "metadata": {},
   "source": [
    "# Implementing the model in Python"
   ]
  },
  {
   "cell_type": "markdown",
   "metadata": {},
   "source": [
    "Before we dive into implementing the model, we need to get setup ready to create our graph with *igraph*."
   ]
  },
  {
   "cell_type": "markdown",
   "metadata": {},
   "source": [
    "## Getting setup"
   ]
  },
  {
   "cell_type": "code",
   "execution_count": null,
   "metadata": {},
   "outputs": [],
   "source": [
    "#! pip install -r requirements.txt"
   ]
  },
  {
   "cell_type": "markdown",
   "metadata": {},
   "source": [
    "To begin creating this graph in Python, we can import the nodes from *musae_facebook_target.csv*, using the standard Python csv library:"
   ]
  },
  {
   "cell_type": "code",
   "execution_count": null,
   "metadata": {},
   "outputs": [],
   "source": [
    "import csv\n",
    "with open('./data/musae_facebook_target.csv', 'r', encoding='utf-8') as csv_file:\n",
    "    reader = csv.reader(csv_file)\n",
    "    data = [line for line in reader]\n",
    "    print(data[:10])\n",
    "    print(len(data))"
   ]
  },
  {
   "cell_type": "markdown",
   "metadata": {},
   "source": [
    "Here, we open the *csv* file with *utf-8 encoding*, as some node name strings contain non-standard characters. We use *csv.reader* to read the file, and convert this into a list of lists with a list comprehension (a special construct to encapsulate a loop inside a list to return a new list based on the loop logic, in essence to create a list from another list). Finally, we confirm that the *csv* is loaded correctly by examining the first few lines, and checking the length of the imported list, which should be equal to 22,471, the number of rows."
   ]
  },
  {
   "cell_type": "markdown",
   "metadata": {},
   "source": [
    "## Adding nodes and attributes"
   ]
  },
  {
   "cell_type": "markdown",
   "metadata": {},
   "source": [
    "In *igraph*, we could add nodes one at a to begin creating our graph, as we did in the previous chapter. However, as with many operations in Python, it is faster to add nodes listwise, in a single operation."
   ]
  },
  {
   "cell_type": "markdown",
   "metadata": {},
   "source": [
    "To prepare our data for this, we need lists of node names, and each node attribute. We can prepare these lists using more list comprehensions:"
   ]
  },
  {
   "cell_type": "code",
   "execution_count": null,
   "metadata": {},
   "outputs": [],
   "source": [
    "node_ids = [int(row[0]) for row in data[1:]]\n",
    "page_names = [row[2] for row in data[1:]]\n",
    "page_types = [row[3] for row in data[1:]]"
   ]
  },
  {
   "cell_type": "markdown",
   "metadata": {},
   "source": [
    "Note that the [1:] list slice on data is removing the csv header from each list, that we would not want to include as a node.\n",
    "\n",
    "We need to confirm that the *id* row of our data increases sequentially. As mentioned in chapter 1, *igraph* uses a sequentially increasing integer index for every node added to the graph. If our id column also uses this, adding nodes will be a simple process. To confirm that this is the case, we can compare the id column to a Python *range()*:"
   ]
  },
  {
   "cell_type": "code",
   "execution_count": null,
   "metadata": {},
   "outputs": [],
   "source": [
    "assert node_ids == list(range(len(node_ids)))"
   ]
  },
  {
   "cell_type": "markdown",
   "metadata": {},
   "source": [
    "This assert is making sure that a *range()* of 0 to the len() of the node_ids list is equivalent to the list of node ids in our data. This assert should raise no AssertionError, as they are identical.\n",
    "\n",
    "This means importing our nodes into *igraph*, in this case, is as simple as creating a new, undirected, empty graph and telling igraph how many nodes we would like:"
   ]
  },
  {
   "cell_type": "code",
   "execution_count": null,
   "metadata": {},
   "outputs": [],
   "source": [
    "import igraph as ig\n",
    "g = ig.Graph(directed=False)\n",
    "g.add_vertices(len(node_ids))\n"
   ]
  },
  {
   "cell_type": "markdown",
   "metadata": {},
   "source": [
    "We can confirm how many nodes have been added by accessing the *vs* attribute of the *Graph()* object, and check that this is equal to the length of the *node_ids* list using another *assert*:"
   ]
  },
  {
   "cell_type": "code",
   "execution_count": null,
   "metadata": {},
   "outputs": [],
   "source": [
    "print(len(g.vs))\n",
    "assert len(node_ids) == len(g.vs)"
   ]
  },
  {
   "cell_type": "markdown",
   "metadata": {},
   "source": [
    "This will show that the number of nodes is 22470, one less than the number of rows in the original csv file, which accounts for the removed header. Additionally, the assert will compare the length of both objects and raise an error if these values are not equal (expressed with the == equality symbol). \n",
    "\n",
    "Now that nodes have been added, we can add our attributes to the nodes in a listwise operation, using the attribute lists *page_names* and *page_types* that were prepared earlier:"
   ]
  },
  {
   "cell_type": "code",
   "execution_count": null,
   "metadata": {},
   "outputs": [],
   "source": [
    "g.vs['page_name'] = page_names\n",
    "g.vs['page_type'] = page_types"
   ]
  },
  {
   "cell_type": "markdown",
   "metadata": {},
   "source": [
    "Here we use the *vs* attribute of the graph to write the page names in order, from node with id 0 to node 22470. Because the order of our properties and ids was preserved when preparing these lists earlier, this is the easiest way to quickly add all of our node attributes.\n",
    "\n",
    "We can confirm that node attributes have been written to the graph with:"
   ]
  },
  {
   "cell_type": "code",
   "execution_count": null,
   "metadata": {},
   "outputs": [],
   "source": [
    "print(g.vs[0]['page_name'])\n",
    "print(g.vs[0]['page_type'])"
   ]
  },
  {
   "cell_type": "markdown",
   "metadata": {},
   "source": [
    "Which should print the node name and type of the first data row in our original csv."
   ]
  },
  {
   "cell_type": "markdown",
   "metadata": {},
   "source": [
    "## Adding edges"
   ]
  },
  {
   "cell_type": "markdown",
   "metadata": {},
   "source": [
    "Now that our nodes have been added to the graph, we can begin to connect them together. All the information we need to do this is contained in *musae_facebook_edges.csv*, so lets import this file:"
   ]
  },
  {
   "cell_type": "code",
   "execution_count": null,
   "metadata": {},
   "outputs": [],
   "source": [
    "with open('./data/musae_facebook_edges.csv', 'r') as csv_file_2:\n",
    "\treader = csv.reader(csv_file_2)\n",
    "\tedge_data = [row for row in reader]\n",
    "\tprint(edge_data[:10])\n",
    "\tprint(len(edge_data))\n"
   ]
  },
  {
   "cell_type": "markdown",
   "metadata": {},
   "source": [
    "As with the nodes earlier, we are importing the csv edge list using Python’s inbuilt csv library (imported earlier). This file contains no special characters, so we don’t need to specify the encoding.\n",
    "\n",
    "Again, we examine the first few rows of the imported list of lists, by printing them, along with the number of rows to get an idea of how many edges we are adding to the graph. \n",
    "\n",
    "Notice that this file also contains a header, that we do not want to inadvertently include as an edge in our graph. Also, in *igraph*, nodes are referred to by their integer ID, so we will need to change our list elements to integers, ready for edge addition. We can do this, and remove the header, using a list comprehension:"
   ]
  },
  {
   "cell_type": "code",
   "execution_count": null,
   "metadata": {},
   "outputs": [],
   "source": [
    "edges = [[int(row[0]), int(row[1])] for row in edge_data[1:]]\n",
    "print(edges[:10])"
   ]
  },
  {
   "cell_type": "markdown",
   "metadata": {},
   "source": [
    "We then confirm that the edge list has been converted to integers correctly, by again printing to examine the first ten elements.\n",
    "\n",
    "Now that the data is prepared, the edges can all be added to our graph at once with the *Graph.add_edges()* method:"
   ]
  },
  {
   "cell_type": "code",
   "execution_count": null,
   "metadata": {},
   "outputs": [],
   "source": [
    "g.add_edges(edges)"
   ]
  },
  {
   "cell_type": "markdown",
   "metadata": {},
   "source": [
    "We can confirm that the edges have been added by accessing the *es* attribute of the graph, and counting them:"
   ]
  },
  {
   "cell_type": "code",
   "execution_count": null,
   "metadata": {},
   "outputs": [],
   "source": [
    "print(len(g.es))"
   ]
  },
  {
   "cell_type": "markdown",
   "metadata": {},
   "source": [
    "This should be equal to the number of rows in the csv file, minus one (171002 edges).\n",
    "\n",
    "Let's also confirm that an edge we know should be in the graph, has been added correctly. Looking at the first non-header row of *musae_facebook_edges.csv*, we can see there should be an edge between node 0 and node 18427. We can access the first edge added to the graph using the es attribute, and indexing:"
   ]
  },
  {
   "cell_type": "code",
   "execution_count": null,
   "metadata": {},
   "outputs": [],
   "source": [
    "first_edge = g.es[0]"
   ]
  },
  {
   "cell_type": "markdown",
   "metadata": {},
   "source": [
    "This edge should be connecting nodes with IDs  0 and 18427. We can validate this by printing the source and target attributes of out newly created first_edge variable:"
   ]
  },
  {
   "cell_type": "code",
   "execution_count": null,
   "metadata": {},
   "outputs": [],
   "source": [
    "print(first_edge.source)\n",
    "print(first_edge.target)"
   ]
  },
  {
   "cell_type": "markdown",
   "metadata": {},
   "source": [
    "Finally, to relate this back to the real dataset, we can check what Facebook pages this edge represents, by accessing the node’s *page_name* attributes:"
   ]
  },
  {
   "cell_type": "code",
   "execution_count": null,
   "metadata": {},
   "outputs": [],
   "source": [
    "print(g.vs[0]['page_name'])\n",
    "print(g.vs[18427]['page_name'])"
   ]
  },
  {
   "cell_type": "markdown",
   "metadata": {},
   "source": [
    "This shows us that the corresponding Facebook pages for these nodes are ‘The Voice of China 中国好声音’ and ‘The Voice Global’, and that these Facebook pages share a mutual like."
   ]
  }
 ],
 "metadata": {
  "kernelspec": {
   "display_name": "Python 3.8.15 ('graph-book')",
   "language": "python",
   "name": "python3"
  },
  "language_info": {
   "codemirror_mode": {
    "name": "ipython",
    "version": 3
   },
   "file_extension": ".py",
   "mimetype": "text/x-python",
   "name": "python",
   "nbconvert_exporter": "python",
   "pygments_lexer": "ipython3",
   "version": "3.8.15"
  },
  "orig_nbformat": 4,
  "vscode": {
   "interpreter": {
    "hash": "0e962125a6bade716827c7cd07d3b7c9b717838910a5075eb32d8b321480d4bb"
   }
  }
 },
 "nbformat": 4,
 "nbformat_minor": 2
}
