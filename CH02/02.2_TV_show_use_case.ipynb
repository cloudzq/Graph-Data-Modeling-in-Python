{
 "cells": [
  {
   "cell_type": "markdown",
   "metadata": {},
   "source": [
    "# What is the most popular TV show - a real world use case"
   ]
  },
  {
   "cell_type": "markdown",
   "metadata": {},
   "source": [
    "In this section, we will be taking on the very fortunate position or role of a Facebook data scientist to determine, amongst other things, what the most popular TV show in our dataset is. This will test the knowledge we have gained so far and will take you through a typical use case that gets asked of a graph data scientist."
   ]
  },
  {
   "cell_type": "markdown",
   "metadata": {},
   "source": [
    "## Getting setup"
   ]
  },
  {
   "cell_type": "code",
   "execution_count": 5,
   "metadata": {},
   "outputs": [],
   "source": [
    "#! pip install -r requirements.txt\n",
    "import matplotlib.pyplot as plt\n",
    "import igraph"
   ]
  },
  {
   "cell_type": "markdown",
   "metadata": {},
   "source": [
    "## Examing the graph structure"
   ]
  },
  {
   "cell_type": "code",
   "execution_count": 2,
   "metadata": {},
   "outputs": [],
   "source": [
    "from graphtastic.utils import graph_from_attributes_and_edgelist"
   ]
  },
  {
   "cell_type": "code",
   "execution_count": 3,
   "metadata": {},
   "outputs": [],
   "source": [
    "node_attr_path = './data/musae_facebook_target.csv'\n",
    "edgelist_path = './data/musae_facebook_edges.csv'\n",
    "attributes = ['page_name', 'page_type']\n",
    "# Create a graph from our wrapper functions\n",
    "g = graph_from_attributes_and_edgelist(node_attr_path, edgelist_path, attributes)"
   ]
  },
  {
   "cell_type": "code",
   "execution_count": 4,
   "metadata": {},
   "outputs": [
    {
     "name": "stdout",
     "output_type": "stream",
     "text": [
      "N = 22470, mean +- sd: 15.2205 +- 26.4144\n",
      "Each * represents 141 items\n",
      "[  0,   5): *********************************************************** (8324)\n",
      "[  5,  10): *********************************** (4989)\n",
      "[ 10,  15): ***************** (2510)\n",
      "[ 15,  20): *********** (1642)\n",
      "[ 20,  25): ******** (1130)\n",
      "[ 25,  30): ***** (837)\n",
      "[ 30,  35): **** (603)\n",
      "[ 35,  40): *** (458)\n",
      "[ 40,  45): ** (356)\n",
      "[ 45,  50): * (256)\n",
      "[ 50,  55): * (224)\n",
      "[ 55,  60): * (174)\n",
      "[ 60,  65): * (157)\n",
      "[ 65,  70):  (129)\n",
      "[ 70,  75):  (92)\n",
      "[ 75,  80):  (71)\n",
      "[ 80,  85):  (58)\n",
      "[ 85,  90):  (55)\n",
      "[ 90,  95):  (50)\n",
      "[ 95, 100):  (35)\n",
      "[100, 105):  (31)\n",
      "[105, 110):  (36)\n",
      "[110, 115):  (28)\n",
      "[115, 120):  (22)\n",
      "[120, 125):  (24)\n",
      "[125, 130):  (13)\n",
      "[130, 135):  (12)\n",
      "[135, 140):  (12)\n",
      "[140, 145):  (17)\n",
      "[145, 150):  (14)\n",
      "[150, 155):  (4)\n",
      "[155, 160):  (8)\n",
      "[160, 165):  (2)\n",
      "[165, 170):  (5)\n",
      "[170, 175):  (5)\n",
      "[175, 180):  (4)\n",
      "[180, 185):  (6)\n",
      "[185, 190):  (4)\n",
      "[190, 195):  (4)\n",
      "[195, 200):  (4)\n",
      "[200, 205):  (4)\n",
      "[205, 210):  (1)\n",
      "[210, 215):  (3)\n",
      "[215, 220):  (3)\n",
      "[220, 225):  (5)\n",
      "[225, 230):  (5)\n",
      "[230, 235):  (2)\n",
      "[235, 240):  (3)\n",
      "[240, 245):  (3)\n",
      "[245, 250):  (0)\n",
      "[250, 255):  (0)\n",
      "[255, 260):  (3)\n",
      "[260, 265):  (1)\n",
      "[265, 270):  (1)\n",
      "[270, 275):  (0)\n",
      "[275, 280):  (2)\n",
      "[280, 285):  (1)\n",
      "[285, 290):  (2)\n",
      "[290, 295):  (1)\n",
      "[295, 300):  (2)\n",
      "[300, 305):  (0)\n",
      "[305, 310):  (0)\n",
      "[310, 315):  (0)\n",
      "[315, 320):  (0)\n",
      "[320, 325):  (1)\n",
      "[325, 330):  (2)\n",
      "[330, 335):  (3)\n",
      "[335, 340):  (1)\n",
      "[340, 345):  (1)\n",
      "[345, 350):  (0)\n",
      "[350, 355):  (1)\n",
      "[355, 360):  (0)\n",
      "[360, 365):  (1)\n",
      "[365, 370):  (0)\n",
      "[370, 375):  (1)\n",
      "[375, 380):  (1)\n",
      "[380, 385):  (1)\n",
      "[385, 390):  (1)\n",
      "[390, 395):  (0)\n",
      "[395, 400):  (0)\n",
      "[400, 405):  (0)\n",
      "[405, 410):  (1)\n",
      "[410, 415):  (0)\n",
      "[415, 420):  (1)\n",
      "[420, 425):  (0)\n",
      "[425, 430):  (0)\n",
      "[430, 435):  (0)\n",
      "[435, 440):  (0)\n",
      "[440, 445):  (0)\n",
      "[445, 450):  (1)\n",
      "[450, 455):  (0)\n",
      "[455, 460):  (0)\n",
      "[460, 465):  (0)\n",
      "[465, 470):  (1)\n",
      "[470, 475):  (0)\n",
      "[475, 480):  (0)\n",
      "[480, 485):  (0)\n",
      "[485, 490):  (0)\n",
      "[490, 495):  (0)\n",
      "[495, 500):  (0)\n",
      "[500, 505):  (1)\n",
      "[505, 510):  (0)\n",
      "[510, 515):  (0)\n",
      "[515, 520):  (0)\n",
      "[520, 525):  (0)\n",
      "[525, 530):  (0)\n",
      "[530, 535):  (0)\n",
      "[535, 540):  (0)\n",
      "[540, 545):  (0)\n",
      "[545, 550):  (0)\n",
      "[550, 555):  (0)\n",
      "[555, 560):  (0)\n",
      "[560, 565):  (0)\n",
      "[565, 570):  (0)\n",
      "[570, 575):  (0)\n",
      "[575, 580):  (0)\n",
      "[580, 585):  (0)\n",
      "[585, 590):  (0)\n",
      "[590, 595):  (0)\n",
      "[595, 600):  (0)\n",
      "[600, 605):  (0)\n",
      "[605, 610):  (0)\n",
      "[610, 615):  (0)\n",
      "[615, 620):  (0)\n",
      "[620, 625):  (0)\n",
      "[625, 630):  (0)\n",
      "[630, 635):  (0)\n",
      "[635, 640):  (0)\n",
      "[640, 645):  (0)\n",
      "[645, 650):  (0)\n",
      "[650, 655):  (1)\n",
      "[655, 660):  (1)\n",
      "[660, 665):  (0)\n",
      "[665, 670):  (0)\n",
      "[670, 675):  (0)\n",
      "[675, 680):  (1)\n",
      "[680, 685):  (0)\n",
      "[685, 690):  (0)\n",
      "[690, 695):  (0)\n",
      "[695, 700):  (0)\n",
      "[700, 705):  (0)\n",
      "[705, 710):  (1)\n"
     ]
    }
   ],
   "source": [
    "histogram = g.degree_distribution(bin_width=5)\n",
    "print(histogram)"
   ]
  },
  {
   "cell_type": "code",
   "execution_count": null,
   "metadata": {},
   "outputs": [],
   "source": []
  }
 ],
 "metadata": {
  "kernelspec": {
   "display_name": "Python 3.8.13 ('youtube')",
   "language": "python",
   "name": "python3"
  },
  "language_info": {
   "codemirror_mode": {
    "name": "ipython",
    "version": 3
   },
   "file_extension": ".py",
   "mimetype": "text/x-python",
   "name": "python",
   "nbconvert_exporter": "python",
   "pygments_lexer": "ipython3",
   "version": "3.8.13"
  },
  "orig_nbformat": 4,
  "vscode": {
   "interpreter": {
    "hash": "d0ee7b56d6d92848927ab980c783075dd1f6b307696a9737c1bc5b45bc0a0a73"
   }
  }
 },
 "nbformat": 4,
 "nbformat_minor": 2
}
